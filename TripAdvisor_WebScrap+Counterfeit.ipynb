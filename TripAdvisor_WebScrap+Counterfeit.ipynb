{
  "nbformat": 4,
  "nbformat_minor": 0,
  "metadata": {
    "colab": {
      "provenance": []
    },
    "kernelspec": {
      "name": "python3",
      "display_name": "Python 3"
    },
    "language_info": {
      "name": "python"
    }
  },
  "cells": [
    {
      "cell_type": "code",
      "source": [
        "import pandas as pd\n",
        "import numpy as np\n",
        "import requests\n",
        "from bs4 import BeautifulSoup\n",
        "import re\n",
        "from sklearn.model_selection import train_test_split\n",
        "from sklearn.feature_extraction.text import CountVectorizer, TfidfVectorizer\n",
        "from sklearn.linear_model import LogisticRegression\n",
        "from sklearn.metrics import accuracy_score, classification_report\n",
        "from textblob import TextBlob\n",
        "from statsmodels.formula.api import ols\n",
        "import statsmodels.api as sm\n",
        "import matplotlib.pyplot as plt\n"
      ],
      "metadata": {
        "id": "66rCuTUxiB4h"
      },
      "execution_count": 1,
      "outputs": []
    },
    {
      "cell_type": "code",
      "source": [
        "url = \"https://www.tripadvisor.in/SmartDeals-g304554-Mumbai_Maharashtra-Hotel-Deals.html\"\n",
        "response = requests.get(url)\n",
        "soup = BeautifulSoup(response.text, 'html.parser')\n",
        "\n",
        "reviews = []\n",
        "for container in soup.find_all('div', class_='review-container'):\n",
        "    review_text = container.find('p', class_='partial_entry').text\n",
        "    reviews.append(review_text)\n",
        "\n",
        "data = pd.DataFrame({'review': reviews})\n",
        "print(\"Sample reviews:\")\n",
        "print(data.head())\n"
      ],
      "metadata": {
        "colab": {
          "base_uri": "https://localhost:8080/"
        },
        "id": "ixSmWqsTiGae",
        "outputId": "6a0b8ea1-3b49-4708-a277-f89c00913280"
      },
      "execution_count": 2,
      "outputs": [
        {
          "output_type": "stream",
          "name": "stdout",
          "text": [
            "Sample reviews:\n",
            "Empty DataFrame\n",
            "Columns: [review]\n",
            "Index: []\n"
          ]
        }
      ]
    },
    {
      "cell_type": "code",
      "source": [
        "labeled_data = pd.DataFrame({\n",
        "    'review': [\n",
        "        \"This hotel is nothing like the pictures. The rooms are small and dirty, completely misleading!\",\n",
        "        \"Fake amenities listed! There was no swimming pool as advertised. Avoid this hotel at all costs.\",\n",
        "        \"Great experience overall! The staff was friendly, and the rooms were clean and spacious.\",\n",
        "        \"The hotel claimed to offer a sea view, but my room faced a construction site. Total disappointment!\",\n",
        "        \"Fantastic stay! The location was perfect, and the breakfast was delicious. Highly recommended!\"\n",
        "    ],\n",
        "    'label': [1, 1, 0, 1, 0]\n",
        "})\n",
        "\n",
        "data['label'] = None\n",
        "data = pd.concat([labeled_data, data], ignore_index=True)\n",
        "\n",
        "def preprocess(text):\n",
        "    text = text.lower()\n",
        "    text = re.sub(r'[^\\w\\s]', '', text)\n",
        "    text = re.sub(r'\\d+', '', text)\n",
        "    return text\n",
        "\n",
        "data['review_clean'] = data['review'].apply(preprocess)\n",
        "\n",
        "data = data.dropna(subset=['label'])\n",
        "data['label'] = data['label'].astype(int)\n",
        "\n",
        "vectorizer = TfidfVectorizer()\n",
        "X = vectorizer.fit_transform(data['review_clean'])\n",
        "y = data['label']\n",
        "\n",
        "X_train, X_test, y_train, y_test = train_test_split(X, y, test_size=0.2, random_state=42)\n",
        "\n",
        "clf = LogisticRegression()\n",
        "clf.fit(X_train, y_train)\n",
        "\n",
        "y_pred = clf.predict(X_test)\n",
        "print(\"Classification Report:\")\n",
        "print(classification_report(y_test, y_pred))\n"
      ],
      "metadata": {
        "id": "rEAuSax6iP0x",
        "colab": {
          "base_uri": "https://localhost:8080/"
        },
        "outputId": "3c930edc-6d9e-402e-80eb-bac6fd9cd3bf"
      },
      "execution_count": 4,
      "outputs": [
        {
          "output_type": "stream",
          "name": "stdout",
          "text": [
            "Classification Report:\n",
            "              precision    recall  f1-score   support\n",
            "\n",
            "           1       1.00      1.00      1.00         1\n",
            "\n",
            "    accuracy                           1.00         1\n",
            "   macro avg       1.00      1.00      1.00         1\n",
            "weighted avg       1.00      1.00      1.00         1\n",
            "\n"
          ]
        }
      ]
    },
    {
      "cell_type": "code",
      "source": [
        "def get_sentiment(text):\n",
        "    analysis = TextBlob(text)\n",
        "    return analysis.sentiment.polarity\n",
        "\n",
        "data['sentiment'] = data['review_clean'].apply(get_sentiment)\n",
        "\n",
        "data['positive_emotion'] = data['sentiment'].apply(lambda x: 1 if x > 0 else 0)\n",
        "\n",
        "print(\"Sentiment Analysis:\")\n",
        "print(data[['review', 'sentiment', 'positive_emotion']].head())\n"
      ],
      "metadata": {
        "id": "AdLYcwrRjOgX",
        "colab": {
          "base_uri": "https://localhost:8080/"
        },
        "outputId": "cc062615-edd0-48b7-8827-a289df99dfd9"
      },
      "execution_count": 5,
      "outputs": [
        {
          "output_type": "stream",
          "name": "stdout",
          "text": [
            "Sentiment Analysis:\n",
            "                                              review  sentiment  \\\n",
            "0  This hotel is nothing like the pictures. The r...  -0.250000   \n",
            "1  Fake amenities listed! There was no swimming p...  -0.500000   \n",
            "2  Great experience overall! The staff was friend...   0.385417   \n",
            "3  The hotel claimed to offer a sea view, but my ...  -0.300000   \n",
            "4  Fantastic stay! The location was perfect, and ...   0.640000   \n",
            "\n",
            "   positive_emotion  \n",
            "0                 0  \n",
            "1                 0  \n",
            "2                 1  \n",
            "3                 0  \n",
            "4                 1  \n"
          ]
        }
      ]
    },
    {
      "cell_type": "code",
      "source": [
        "# Calculate review length as the number of words\n",
        "data['review_length'] = data['review_clean'].apply(lambda x: len(x.split()))\n",
        "\n",
        "print(\"Review Length:\")\n",
        "print(data[['review', 'review_length']].head())\n"
      ],
      "metadata": {
        "id": "5IGHrJLMjUMF",
        "colab": {
          "base_uri": "https://localhost:8080/"
        },
        "outputId": "023980aa-8996-4b22-98a9-f47f7f78a14e"
      },
      "execution_count": 6,
      "outputs": [
        {
          "output_type": "stream",
          "name": "stdout",
          "text": [
            "Review Length:\n",
            "                                              review  review_length\n",
            "0  This hotel is nothing like the pictures. The r...             15\n",
            "1  Fake amenities listed! There was no swimming p...             16\n",
            "2  Great experience overall! The staff was friend...             14\n",
            "3  The hotel claimed to offer a sea view, but my ...             17\n",
            "4  Fantastic stay! The location was perfect, and ...             13\n"
          ]
        }
      ]
    },
    {
      "cell_type": "code",
      "source": [
        "data['predicted_label'] = clf.predict(vectorizer.transform(data['review_clean']))\n",
        "\n",
        "print(\"Columns in DataFrame:\", data.columns)\n",
        "print(\"Sample Data:\")\n",
        "print(data.head())\n"
      ],
      "metadata": {
        "colab": {
          "base_uri": "https://localhost:8080/"
        },
        "id": "7LVpQshPlDEN",
        "outputId": "97702acf-4e19-455a-e160-ad7e8b345048"
      },
      "execution_count": 8,
      "outputs": [
        {
          "output_type": "stream",
          "name": "stdout",
          "text": [
            "Columns in DataFrame: Index(['review', 'label', 'review_clean', 'sentiment', 'positive_emotion',\n",
            "       'review_length', 'rating', 'predicted_label'],\n",
            "      dtype='object')\n",
            "Sample Data:\n",
            "                                              review  label  \\\n",
            "0  This hotel is nothing like the pictures. The r...      1   \n",
            "1  Fake amenities listed! There was no swimming p...      1   \n",
            "2  Great experience overall! The staff was friend...      0   \n",
            "3  The hotel claimed to offer a sea view, but my ...      1   \n",
            "4  Fantastic stay! The location was perfect, and ...      0   \n",
            "\n",
            "                                        review_clean  sentiment  \\\n",
            "0  this hotel is nothing like the pictures the ro...  -0.250000   \n",
            "1  fake amenities listed there was no swimming po...  -0.500000   \n",
            "2  great experience overall the staff was friendl...   0.385417   \n",
            "3  the hotel claimed to offer a sea view but my r...  -0.300000   \n",
            "4  fantastic stay the location was perfect and th...   0.640000   \n",
            "\n",
            "   positive_emotion  review_length  rating  predicted_label  \n",
            "0                 0             15       4                1  \n",
            "1                 0             16       5                1  \n",
            "2                 1             14       3                0  \n",
            "3                 0             17       5                1  \n",
            "4                 1             13       5                0  \n"
          ]
        }
      ]
    },
    {
      "cell_type": "code",
      "source": [
        "print(\"Unique values in predicted_label:\", data['predicted_label'].unique())\n"
      ],
      "metadata": {
        "colab": {
          "base_uri": "https://localhost:8080/"
        },
        "id": "i6OosxuXlJsu",
        "outputId": "3e07ade3-387e-41c5-ec9a-bf201fd75b82"
      },
      "execution_count": 9,
      "outputs": [
        {
          "output_type": "stream",
          "name": "stdout",
          "text": [
            "Unique values in predicted_label: [1 0]\n"
          ]
        }
      ]
    },
    {
      "cell_type": "code",
      "source": [
        "data = data.dropna(subset=['rating', 'predicted_label'])"
      ],
      "metadata": {
        "id": "JzP70c4ClP4i"
      },
      "execution_count": 10,
      "outputs": []
    },
    {
      "cell_type": "code",
      "source": [
        "import statsmodels.api as sm\n",
        "from statsmodels.formula.api import ols\n",
        "\n",
        "model_h1 = ols(\"rating ~ predicted_label\", data=data).fit()\n",
        "\n",
        "print(\"Regression Results:\")\n",
        "print(model_h1.summary())\n"
      ],
      "metadata": {
        "colab": {
          "base_uri": "https://localhost:8080/"
        },
        "id": "1IcOMdrNlgWj",
        "outputId": "19132992-3718-4a90-9517-ceaada1c9fa6"
      },
      "execution_count": 11,
      "outputs": [
        {
          "output_type": "stream",
          "name": "stdout",
          "text": [
            "Regression Results:\n",
            "                            OLS Regression Results                            \n",
            "==============================================================================\n",
            "Dep. Variable:                 rating   R-squared:                       0.167\n",
            "Model:                            OLS   Adj. R-squared:                 -0.111\n",
            "Method:                 Least Squares   F-statistic:                    0.6000\n",
            "Date:                Tue, 17 Dec 2024   Prob (F-statistic):              0.495\n",
            "Time:                        12:28:48   Log-Likelihood:                -5.5232\n",
            "No. Observations:                   5   AIC:                             15.05\n",
            "Df Residuals:                       3   BIC:                             14.27\n",
            "Df Model:                           1                                         \n",
            "Covariance Type:            nonrobust                                         \n",
            "===================================================================================\n",
            "                      coef    std err          t      P>|t|      [0.025      0.975]\n",
            "-----------------------------------------------------------------------------------\n",
            "Intercept           4.0000      0.667      6.000      0.009       1.878       6.122\n",
            "predicted_label     0.6667      0.861      0.775      0.495      -2.072       3.406\n",
            "==============================================================================\n",
            "Omnibus:                          nan   Durbin-Watson:                   1.875\n",
            "Prob(Omnibus):                    nan   Jarque-Bera (JB):                0.441\n",
            "Skew:                          -0.114   Prob(JB):                        0.802\n",
            "Kurtosis:                       1.562   Cond. No.                         2.92\n",
            "==============================================================================\n",
            "\n",
            "Notes:\n",
            "[1] Standard Errors assume that the covariance matrix of the errors is correctly specified.\n"
          ]
        },
        {
          "output_type": "stream",
          "name": "stderr",
          "text": [
            "/usr/local/lib/python3.10/dist-packages/statsmodels/stats/stattools.py:74: ValueWarning: omni_normtest is not valid with less than 8 observations; 5 samples were given.\n",
            "  warn(\"omni_normtest is not valid with less than 8 observations; %i \"\n"
          ]
        }
      ]
    },
    {
      "cell_type": "code",
      "source": [
        "model_med1 = ols(\"positive_emotion ~ predicted_label\", data=data).fit()\n",
        "print(\"H2 - Step 1: Effect of Counterfeit Detection on Positive Emotions\")\n",
        "print(model_med1.summary())\n"
      ],
      "metadata": {
        "id": "HE_v5giLjXeB",
        "colab": {
          "base_uri": "https://localhost:8080/"
        },
        "outputId": "91830270-6f0c-4db4-9f69-afcb798e3947"
      },
      "execution_count": 12,
      "outputs": [
        {
          "output_type": "stream",
          "name": "stdout",
          "text": [
            "H2 - Step 1: Effect of Counterfeit Detection on Positive Emotions\n",
            "                            OLS Regression Results                            \n",
            "==============================================================================\n",
            "Dep. Variable:       positive_emotion   R-squared:                       1.000\n",
            "Model:                            OLS   Adj. R-squared:                  1.000\n",
            "Method:                 Least Squares   F-statistic:                 1.007e+31\n",
            "Date:                Tue, 17 Dec 2024   Prob (F-statistic):           6.90e-47\n",
            "Time:                        12:29:57   Log-Likelihood:                 172.19\n",
            "No. Observations:                   5   AIC:                            -340.4\n",
            "Df Residuals:                       3   BIC:                            -341.2\n",
            "Df Model:                           1                                         \n",
            "Covariance Type:            nonrobust                                         \n",
            "===================================================================================\n",
            "                      coef    std err          t      P>|t|      [0.025      0.975]\n",
            "-----------------------------------------------------------------------------------\n",
            "Intercept           1.0000   2.44e-16    4.1e+15      0.000       1.000       1.000\n",
            "predicted_label    -1.0000   3.15e-16  -3.17e+15      0.000      -1.000      -1.000\n",
            "==============================================================================\n",
            "Omnibus:                          nan   Durbin-Watson:                   0.414\n",
            "Prob(Omnibus):                    nan   Jarque-Bera (JB):                0.839\n",
            "Skew:                          -0.408   Prob(JB):                        0.657\n",
            "Kurtosis:                       1.167   Cond. No.                         2.92\n",
            "==============================================================================\n",
            "\n",
            "Notes:\n",
            "[1] Standard Errors assume that the covariance matrix of the errors is correctly specified.\n"
          ]
        },
        {
          "output_type": "stream",
          "name": "stderr",
          "text": [
            "/usr/local/lib/python3.10/dist-packages/statsmodels/stats/stattools.py:74: ValueWarning: omni_normtest is not valid with less than 8 observations; 5 samples were given.\n",
            "  warn(\"omni_normtest is not valid with less than 8 observations; %i \"\n"
          ]
        }
      ]
    },
    {
      "cell_type": "code",
      "source": [
        "model_med2 = ols(\"rating ~ predicted_label + positive_emotion\", data=data).fit()\n",
        "print(\"H2 - Step 2: Mediation Effect with Positive Emotions\")\n",
        "print(model_med2.summary())\n"
      ],
      "metadata": {
        "colab": {
          "base_uri": "https://localhost:8080/"
        },
        "id": "XKwRV4p1mOyT",
        "outputId": "15c79712-bd93-43f8-c6aa-40a1cc257f60"
      },
      "execution_count": 13,
      "outputs": [
        {
          "output_type": "stream",
          "name": "stdout",
          "text": [
            "H2 - Step 2: Mediation Effect with Positive Emotions\n",
            "                            OLS Regression Results                            \n",
            "==============================================================================\n",
            "Dep. Variable:                 rating   R-squared:                       0.167\n",
            "Model:                            OLS   Adj. R-squared:                 -0.111\n",
            "Method:                 Least Squares   F-statistic:                    0.6000\n",
            "Date:                Tue, 17 Dec 2024   Prob (F-statistic):              0.495\n",
            "Time:                        12:30:22   Log-Likelihood:                -5.5232\n",
            "No. Observations:                   5   AIC:                             15.05\n",
            "Df Residuals:                       3   BIC:                             14.27\n",
            "Df Model:                           1                                         \n",
            "Covariance Type:            nonrobust                                         \n",
            "====================================================================================\n",
            "                       coef    std err          t      P>|t|      [0.025      0.975]\n",
            "------------------------------------------------------------------------------------\n",
            "Intercept            2.8889      0.287     10.070      0.002       1.976       3.802\n",
            "predicted_label      1.7778      0.426      4.178      0.025       0.424       3.132\n",
            "positive_emotion     1.1111      0.480      2.315      0.104      -0.417       2.639\n",
            "==============================================================================\n",
            "Omnibus:                          nan   Durbin-Watson:                   1.875\n",
            "Prob(Omnibus):                    nan   Jarque-Bera (JB):                0.441\n",
            "Skew:                          -0.114   Prob(JB):                        0.802\n",
            "Kurtosis:                       1.562   Cond. No.                     9.20e+15\n",
            "==============================================================================\n",
            "\n",
            "Notes:\n",
            "[1] Standard Errors assume that the covariance matrix of the errors is correctly specified.\n",
            "[2] The smallest eigenvalue is 9.04e-32. This might indicate that there are\n",
            "strong multicollinearity problems or that the design matrix is singular.\n"
          ]
        },
        {
          "output_type": "stream",
          "name": "stderr",
          "text": [
            "/usr/local/lib/python3.10/dist-packages/statsmodels/stats/stattools.py:74: ValueWarning: omni_normtest is not valid with less than 8 observations; 5 samples were given.\n",
            "  warn(\"omni_normtest is not valid with less than 8 observations; %i \"\n"
          ]
        }
      ]
    },
    {
      "cell_type": "code",
      "source": [
        "\n",
        "data['predicted_label'] = data['predicted_label'].astype(int)\n",
        "data['review_length'] = data['review_length'].astype(int)\n",
        "\n",
        "data['interaction'] = data['predicted_label'] * data['review_length']\n",
        "\n",
        "print(data[['predicted_label', 'review_length', 'interaction']].head())\n"
      ],
      "metadata": {
        "colab": {
          "base_uri": "https://localhost:8080/"
        },
        "id": "t_uLz167mZ76",
        "outputId": "c44b5f56-3082-4812-c5e0-9da30f8dbefb"
      },
      "execution_count": 17,
      "outputs": [
        {
          "output_type": "stream",
          "name": "stdout",
          "text": [
            "   predicted_label  review_length  interaction\n",
            "0                1             15           15\n",
            "1                1             16           16\n",
            "2                0             14            0\n",
            "3                1             17           17\n",
            "4                0             13            0\n"
          ]
        }
      ]
    },
    {
      "cell_type": "code",
      "source": [
        "import statsmodels.api as sm\n",
        "from statsmodels.formula.api import ols\n",
        "\n",
        "model_h3 = ols(\"rating ~ predicted_label + review_length + interaction\", data=data).fit()\n",
        "\n",
        "print(\"H3: Moderation Effect of Review Length\")\n",
        "print(model_h3.summary())\n"
      ],
      "metadata": {
        "colab": {
          "base_uri": "https://localhost:8080/"
        },
        "id": "PnwpErD1nOFY",
        "outputId": "b96f0bda-3e96-44dd-c4a8-63d0c4b41926"
      },
      "execution_count": 18,
      "outputs": [
        {
          "output_type": "stream",
          "name": "stdout",
          "text": [
            "H3: Moderation Effect of Review Length\n",
            "                            OLS Regression Results                            \n",
            "==============================================================================\n",
            "Dep. Variable:                 rating   R-squared:                       0.948\n",
            "Model:                            OLS   Adj. R-squared:                  0.792\n",
            "Method:                 Least Squares   F-statistic:                     6.067\n",
            "Date:                Tue, 17 Dec 2024   Prob (F-statistic):              0.288\n",
            "Time:                        12:34:43   Log-Likelihood:                 1.4083\n",
            "No. Observations:                   5   AIC:                             5.183\n",
            "Df Residuals:                       1   BIC:                             3.621\n",
            "Df Model:                           3                                         \n",
            "Covariance Type:            nonrobust                                         \n",
            "===================================================================================\n",
            "                      coef    std err          t      P>|t|      [0.025      0.975]\n",
            "-----------------------------------------------------------------------------------\n",
            "Intercept          31.0000      7.800      3.975      0.157     -68.103     130.103\n",
            "predicted_label   -34.3333      9.068     -3.786      0.164    -149.549      80.882\n",
            "review_length      -2.0000      0.577     -3.464      0.179      -9.336       5.336\n",
            "interaction         2.5000      0.645      3.873      0.161      -5.702      10.702\n",
            "==============================================================================\n",
            "Omnibus:                          nan   Durbin-Watson:                   2.500\n",
            "Prob(Omnibus):                    nan   Jarque-Bera (JB):                0.747\n",
            "Skew:                           0.913   Prob(JB):                        0.688\n",
            "Kurtosis:                       2.500   Cond. No.                     1.19e+03\n",
            "==============================================================================\n",
            "\n",
            "Notes:\n",
            "[1] Standard Errors assume that the covariance matrix of the errors is correctly specified.\n",
            "[2] The condition number is large, 1.19e+03. This might indicate that there are\n",
            "strong multicollinearity or other numerical problems.\n"
          ]
        },
        {
          "output_type": "stream",
          "name": "stderr",
          "text": [
            "/usr/local/lib/python3.10/dist-packages/statsmodels/stats/stattools.py:74: ValueWarning: omni_normtest is not valid with less than 8 observations; 5 samples were given.\n",
            "  warn(\"omni_normtest is not valid with less than 8 observations; %i \"\n"
          ]
        }
      ]
    },
    {
      "cell_type": "code",
      "source": [
        "import matplotlib.pyplot as plt\n",
        "import seaborn as sns\n",
        "\n",
        "sns.lmplot(\n",
        "    x=\"review_length\", y=\"rating\", hue=\"predicted_label\",\n",
        "    data=data, ci=None, aspect=1.5, scatter_kws={'alpha':0.5}\n",
        ")\n",
        "plt.title(\"Moderation Effect of Review Length on Counterfeit Reviews\")\n",
        "plt.show()\n",
        "\n"
      ],
      "metadata": {
        "id": "3uhav-F_jcBQ",
        "colab": {
          "base_uri": "https://localhost:8080/",
          "height": 529
        },
        "outputId": "3ccb0eb8-025c-4c80-fb83-9cf795789c1e"
      },
      "execution_count": 19,
      "outputs": [
        {
          "output_type": "display_data",
          "data": {
            "text/plain": [
              "<Figure size 867.986x500 with 1 Axes>"
            ],
            "image/png": "[encoded data removed]"
          },
          "metadata": {}
        }
      ]
    }
  ]
}